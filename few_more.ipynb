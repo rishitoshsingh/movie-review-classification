{
 "cells": [
  {
   "cell_type": "code",
   "execution_count": 1,
   "metadata": {},
   "outputs": [],
   "source": [
    "import pre_processing\n",
    "import numpy\n",
    "import pickle"
   ]
  },
  {
   "cell_type": "code",
   "execution_count": 2,
   "metadata": {},
   "outputs": [],
   "source": [
    "tfidf_file = open('tfidf.pickle','rb')\n",
    "model_file = open('multinomial.pickle','rb')\n",
    "model = pickle.load(model_file)\n",
    "tfidf = pickle.load(tfidf_file)"
   ]
  },
  {
   "cell_type": "code",
   "execution_count": 3,
   "metadata": {},
   "outputs": [],
   "source": [
    "def pre_process(tweet):\n",
    "    cleaned_tweet = [' '.join(pre_processing.clean_tweets(tweet))]\n",
    "    features = tfidf.transform(cleaned_tweet)\n",
    "    return features.toarray()"
   ]
  },
  {
   "cell_type": "code",
   "execution_count": 4,
   "metadata": {},
   "outputs": [
    {
     "data": {
      "text/plain": [
       "array([1.], dtype=float16)"
      ]
     },
     "execution_count": 4,
     "metadata": {},
     "output_type": "execute_result"
    }
   ],
   "source": [
    "tweet = \"This movie will blow your mind and break your heart - and make you desperate to go back for more. Brave, brilliant and better than it has any right to be.\"\n",
    "model.predict(pre_process(tweet))"
   ]
  },
  {
   "cell_type": "code",
   "execution_count": 5,
   "metadata": {},
   "outputs": [
    {
     "data": {
      "text/plain": [
       "array([0.], dtype=float16)"
      ]
     },
     "execution_count": 5,
     "metadata": {},
     "output_type": "execute_result"
    }
   ],
   "source": [
    "tweet = \"Suicide Squad was a disappointment to me. May be I got hooked on the hype or was expecting too much from WB. This movie had a great concept that we saw on the small screen, both TV series and animated. For some reason, those formats did it better than this theatrical release. This movie suffered from all fronts, poor writing which is the number one problem for me. The story was just all over the place with such in coherency, it's visible at every point. Not enough time was spent in developing these characters for their introduction to the big stage. Poor dialogue was another major problem which is just so stupid at some points.\"\n",
    "model.predict(pre_process(tweet))"
   ]
  }
 ],
 "metadata": {
  "kernelspec": {
   "display_name": "Python 3",
   "language": "python",
   "name": "python3"
  },
  "language_info": {
   "codemirror_mode": {
    "name": "ipython",
    "version": 3
   },
   "file_extension": ".py",
   "mimetype": "text/x-python",
   "name": "python",
   "nbconvert_exporter": "python",
   "pygments_lexer": "ipython3",
   "version": "3.6.4"
  }
 },
 "nbformat": 4,
 "nbformat_minor": 2
}
